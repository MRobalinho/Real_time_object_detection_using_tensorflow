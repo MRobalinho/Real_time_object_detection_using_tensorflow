{
 "cells": [
  {
   "cell_type": "markdown",
   "metadata": {},
   "source": [
    "# Real Time Object Detection with TensorFlow Detection Model\n",
    "\n",
    "https://towardsdatascience.com/real-time-object-detection-with-tensorflow-detection-model-e7fd20421d5d\n",
    "https://github.com/ElephantHunters/Real_time_object_detection_using_tensorflow/blob/master/object_detection_tutorial_Webcam_1.ipynb\n",
    "<br/>Object detection with tensorflow\n",
    "<br/>\n",
    "https://github.com/tensorflow/models/tree/master/research/object_detection\n",
    "<br/>Documentation models:\n",
    "<br/>\n",
    "https://github.com/tensorflow/models/blob/master/research/object_detection/g3doc/detection_model_zoo.md\n",
    "<br/>\n",
    "Manuel Robalinho - 29-10-2018"
   ]
  },
  {
   "cell_type": "markdown",
   "metadata": {},
   "source": [
    "## Installation for object-detection\n",
    "https://github.com/tensorflow/models/blob/master/research/object_detection/g3doc/installation.md\n",
    "\n",
    "<b>Download Tensorflow repository:</b>\n",
    "<br/>conda install tensorflow\n",
    "\n",
    "<b>Clone Tensorflow and Tensorflow models repositories:</b>\n",
    "<br/>git clone https://github.com/tensorflow/tensorflow\n",
    "<br/>cd tensorflow\n",
    "<br/>git clone https://github.com/tensorflow/models\n",
    "\n",
    "<b>Install Object Detection API:</b>\n",
    "<br/> guide:https://github.com/tensorflow/models/blob/master/research/object_detection/g3doc/installation.md\n",
    "\n",
    "<br/>sudo apt-get install protobuf-compiler python-pil python-lxml python-tk\n",
    "<br/>conda install protobuf-compiler\n",
    "<br/>conda install --user Cython\n",
    "<br/>conda install --user contextlib2\n",
    "<br/>conda install --user jupyter\n",
    "<br/>conda install --user matplotlib\n",
    "\n",
    "<b>Install COCO API</b>\n",
    "<br/>Change <path_to_tensorflow> to path to your Tensorflow repository.\n",
    "<br/>git clone https://github.com/cocodataset/cocoapi.git\n",
    "<br/>cd cocoapi/PythonAPI\n",
    "<br/>make\n",
    "<br/>cp -r pycocotools <path_to_tensorflow>/models/research/\n",
    "\n",
    "<b>Install Protoc</b>\n",
    "<br/>You can download it here: https://github.com/google/protobuf/releases\n",
    "<br/># From tensorflow/models/research/\n",
    "<br/>protoc object_detection/protos/*.proto --python_out=.\n",
    "\n",
    "<b>Install object detection</b>\n",
    "<br/>If you want to run object detection from any directory, I guess you want, you will need to add <br/>the path to your ~/.bashrc file. Obviously change <path_to_tensorflow> , replace ~with $HOME.\n",
    "\n",
    "<br/>export PYTHONPATH=$PYTHONPATH:<path_to_tensorflow>/models/research/: path_to_tensorflow>/models/research/slim"
   ]
  },
  {
   "cell_type": "markdown",
   "metadata": {},
   "source": [
    "#### Need install MAKE on:\n",
    "    \n",
    "http://stat545.com/automation02_windows.html\n",
    "    "
   ]
  },
  {
   "cell_type": "markdown",
   "metadata": {},
   "source": [
    "## Import Libraries"
   ]
  },
  {
   "cell_type": "code",
   "execution_count": 1,
   "metadata": {},
   "outputs": [
    {
     "name": "stdout",
     "output_type": "stream",
     "text": [
      "TensorFlow Version: 1.8.0\n"
     ]
    }
   ],
   "source": [
    "import numpy as np\n",
    "import os\n",
    "import six.moves.urllib as urllib\n",
    "import sys\n",
    "import tarfile\n",
    "import tensorflow as tf\n",
    "import zipfile\n",
    "\n",
    "from collections import defaultdict\n",
    "from io import StringIO\n",
    "from matplotlib import pyplot as plt\n",
    "from PIL import Image\n",
    "print('TensorFlow Version:',tf.__version__)\n",
    "if tf.__version__ < '1.04.0':\n",
    "    raise ImportError('Please upgrade your tensorflow installation to v1.4.* or later!')"
   ]
  },
  {
   "cell_type": "markdown",
   "metadata": {},
   "source": [
    "## Environment setup"
   ]
  },
  {
   "cell_type": "code",
   "execution_count": 2,
   "metadata": {},
   "outputs": [
    {
     "name": "stdout",
     "output_type": "stream",
     "text": [
      "We are in the path:  C:\\Users\\Lenovo\\Object_Detection_Real_Time\n"
     ]
    }
   ],
   "source": [
    "# This is needed to display the images.\n",
    "%matplotlib inline\n",
    "\n",
    "# This is needed since the notebook is stored in the object_detection folder.\n",
    "print('We are in the path: ',os.getcwd())"
   ]
  },
  {
   "cell_type": "markdown",
   "metadata": {},
   "source": [
    "## Object detection imports\n",
    "Here are the imports from the object detection module."
   ]
  },
  {
   "cell_type": "code",
   "execution_count": 3,
   "metadata": {},
   "outputs": [
    {
     "data": {
      "text/plain": [
       "['',\n",
       " 'C:\\\\ProgramData\\\\Anaconda3\\\\python36.zip',\n",
       " 'C:\\\\ProgramData\\\\Anaconda3\\\\DLLs',\n",
       " 'C:\\\\ProgramData\\\\Anaconda3\\\\lib',\n",
       " 'C:\\\\ProgramData\\\\Anaconda3',\n",
       " 'C:\\\\Users\\\\Lenovo\\\\AppData\\\\Roaming\\\\Python\\\\Python36\\\\site-packages',\n",
       " 'C:\\\\ProgramData\\\\Anaconda3\\\\lib\\\\site-packages',\n",
       " 'C:\\\\ProgramData\\\\Anaconda3\\\\lib\\\\site-packages\\\\Sphinx-1.5.6-py3.6.egg',\n",
       " 'C:\\\\ProgramData\\\\Anaconda3\\\\lib\\\\site-packages\\\\object_detection-0.1-py3.6.egg',\n",
       " 'C:\\\\ProgramData\\\\Anaconda3\\\\lib\\\\site-packages\\\\win32',\n",
       " 'C:\\\\ProgramData\\\\Anaconda3\\\\lib\\\\site-packages\\\\win32\\\\lib',\n",
       " 'C:\\\\ProgramData\\\\Anaconda3\\\\lib\\\\site-packages\\\\Pythonwin',\n",
       " 'C:\\\\ProgramData\\\\Anaconda3\\\\lib\\\\site-packages\\\\IPython\\\\extensions',\n",
       " 'C:\\\\Users\\\\Lenovo\\\\.ipython',\n",
       " './utils']"
      ]
     },
     "execution_count": 3,
     "metadata": {},
     "output_type": "execute_result"
    }
   ],
   "source": [
    "import sys, os\n",
    "# Add new path\n",
    "sys.path.append('./utils')\n",
    "# View paths\n",
    "sys.path"
   ]
  },
  {
   "cell_type": "code",
   "execution_count": 4,
   "metadata": {
    "collapsed": true
   },
   "outputs": [],
   "source": [
    "# My utils is in directory: models\\object_detection\\utils (download from Tensorflow)\n",
    "from models.object_detection.utils import label_map_util\n",
    "\n",
    "from models.object_detection.utils import visualization_utils as vis_util"
   ]
  },
  {
   "cell_type": "markdown",
   "metadata": {},
   "source": [
    "## Model preparation\n",
    "### Variables\n",
    "Any model exported using the export_inference_graph.py tool can be loaded here simply by changing PATH_TO_CKPT to point to a new .pb file.\n",
    "\n",
    "By default we use an \"SSD with Mobilenet\" model here. See the [detection model zoo](https://github.com/tensorflow/models/blob/master/research/object_detection/g3doc/detection_model_zoo.md) for a list of other models that can be run out-of-the-box with varying speeds and accuracies."
   ]
  },
  {
   "cell_type": "code",
   "execution_count": 5,
   "metadata": {
    "collapsed": true
   },
   "outputs": [],
   "source": [
    "# What model to download.\n",
    "MODEL_NAME = 'ssd_mobilenet_v1_coco_2017_11_17'\n",
    "MODEL_FILE = MODEL_NAME + '.tar.gz'\n",
    "DOWNLOAD_BASE = 'http://download.tensorflow.org/models/object_detection/'\n",
    "\n",
    "# Path to frozen detection graph. This is the actual model that is used for the object detection.\n",
    "my_model_detection = 'frozen_inference_graph.pb'\n",
    "PATH_TO_CKPT = MODEL_NAME + '/' + my_model_detection\n",
    "\n",
    "# List of the strings (mscoco_label_map.pbtxt) that is used to add correct label for each box.\n",
    "PATH_TO_LABELS = os.path.join('models\\object_detection\\data', 'mscoco_label_map.pbtxt')\n",
    "\n",
    "NUM_CLASSES = 90"
   ]
  },
  {
   "cell_type": "code",
   "execution_count": 6,
   "metadata": {},
   "outputs": [
    {
     "data": {
      "text/plain": [
       "'ssd_mobilenet_v1_coco_2017_11_17'"
      ]
     },
     "execution_count": 6,
     "metadata": {},
     "output_type": "execute_result"
    }
   ],
   "source": [
    "# Confirm Model Name\n",
    "MODEL_NAME"
   ]
  },
  {
   "cell_type": "code",
   "execution_count": 7,
   "metadata": {},
   "outputs": [
    {
     "data": {
      "text/plain": [
       "'ssd_mobilenet_v1_coco_2017_11_17/frozen_inference_graph.pb'"
      ]
     },
     "execution_count": 7,
     "metadata": {},
     "output_type": "execute_result"
    }
   ],
   "source": [
    "# Confirm path to model detection\n",
    "PATH_TO_CKPT"
   ]
  },
  {
   "cell_type": "markdown",
   "metadata": {},
   "source": [
    "## Download Model"
   ]
  },
  {
   "cell_type": "code",
   "execution_count": 8,
   "metadata": {
    "collapsed": true
   },
   "outputs": [],
   "source": [
    "opener = urllib.request.URLopener()\n",
    "opener.retrieve(DOWNLOAD_BASE + MODEL_FILE, MODEL_FILE)\n",
    "tar_file = tarfile.open(MODEL_FILE)\n",
    "for file in tar_file.getmembers():\n",
    "    file_name = os.path.basename(file.name)\n",
    "    if my_model_detection in file_name:\n",
    "        tar_file.extract(file, os.getcwd())"
   ]
  },
  {
   "cell_type": "code",
   "execution_count": 9,
   "metadata": {},
   "outputs": [
    {
     "name": "stdout",
     "output_type": "stream",
     "text": [
      "<tarfile.TarFile object at 0x0000015CC7350D68>\n"
     ]
    }
   ],
   "source": [
    "# Confirm if loaded Model run correctly\n",
    "print(tar_file)"
   ]
  },
  {
   "cell_type": "markdown",
   "metadata": {},
   "source": [
    "## Load a (frozen) Tensorflow model into memory."
   ]
  },
  {
   "cell_type": "code",
   "execution_count": 10,
   "metadata": {},
   "outputs": [
    {
     "data": {
      "text/plain": [
       "'ssd_mobilenet_v1_coco_2017_11_17/frozen_inference_graph.pb'"
      ]
     },
     "execution_count": 10,
     "metadata": {},
     "output_type": "execute_result"
    }
   ],
   "source": [
    "PATH_TO_CKPT"
   ]
  },
  {
   "cell_type": "code",
   "execution_count": 11,
   "metadata": {
    "collapsed": true
   },
   "outputs": [],
   "source": [
    "detection_graph = tf.Graph()\n",
    "with detection_graph.as_default():\n",
    "    od_graph_def = tf.GraphDef()\n",
    "    with tf.gfile.GFile(PATH_TO_CKPT, 'rb') as fid:\n",
    "        serialized_graph = fid.read()\n",
    "        od_graph_def.ParseFromString(serialized_graph)\n",
    "        tf.import_graph_def(od_graph_def, name='')"
   ]
  },
  {
   "cell_type": "markdown",
   "metadata": {},
   "source": [
    "## Loading label map\n",
    "Label maps map indices to category names, so that when our convolution network predicts 5, we know that this corresponds to airplane. Here we use internal utility functions, but anything that returns a dictionary mapping integers to appropriate string labels would be fine"
   ]
  },
  {
   "cell_type": "code",
   "execution_count": 12,
   "metadata": {},
   "outputs": [
    {
     "data": {
      "text/plain": [
       "'models\\\\object_detection\\\\data\\\\mscoco_label_map.pbtxt'"
      ]
     },
     "execution_count": 12,
     "metadata": {},
     "output_type": "execute_result"
    }
   ],
   "source": [
    "# Confirm labels path\n",
    "PATH_TO_LABELS"
   ]
  },
  {
   "cell_type": "code",
   "execution_count": 13,
   "metadata": {
    "collapsed": true
   },
   "outputs": [],
   "source": [
    "label_map = label_map_util.load_labelmap(PATH_TO_LABELS)\n",
    "categories = label_map_util.convert_label_map_to_categories(label_map, max_num_classes=NUM_CLASSES, use_display_name=True)\n",
    "category_index = label_map_util.create_category_index(categories)"
   ]
  },
  {
   "cell_type": "code",
   "execution_count": 14,
   "metadata": {},
   "outputs": [
    {
     "name": "stdout",
     "output_type": "stream",
     "text": [
      "item {\n",
      "  name: \"/m/01g317\"\n",
      "  id: 1\n",
      "  display_name: \"person\"\n",
      "}\n",
      "item {\n",
      "  name: \"/m/0199g\"\n",
      "  id: 2\n",
      "  display_name: \"bicycle\"\n",
      "}\n",
      "item {\n",
      "  name: \"/m/0k4j\"\n",
      "  id: 3\n",
      "  display_name: \"car\"\n",
      "}\n",
      "item {\n",
      "  name: \"/m/04_sv\"\n",
      "  id: 4\n",
      "  display_name: \"motorcycle\"\n",
      "}\n",
      "item {\n",
      "  name: \"/m/05czz6l\"\n",
      "  id: 5\n",
      "  display_name: \"airplane\"\n",
      "}\n",
      "item {\n",
      "  name: \"/m/01bjv\"\n",
      "  id: 6\n",
      "  display_name: \"bus\"\n",
      "}\n",
      "item {\n",
      "  name: \"/m/07jdr\"\n",
      "  id: 7\n",
      "  display_name: \"train\"\n",
      "}\n",
      "item {\n",
      "  name: \"/m/07r04\"\n",
      "  id: 8\n",
      "  display_name: \"truck\"\n",
      "}\n",
      "item {\n",
      "  name: \"/m/019jd\"\n",
      "  id: 9\n",
      "  display_name: \"boat\"\n",
      "}\n",
      "item {\n",
      "  name: \"/m/015qff\"\n",
      "  id: 10\n",
      "  display_name: \"traffic light\"\n",
      "}\n",
      "item {\n",
      "  name: \"/m/01pns0\"\n",
      "  id: 11\n",
      "  display_name: \"fire hydrant\"\n",
      "}\n",
      "item {\n",
      "  name: \"/m/02pv19\"\n",
      "  id: 13\n",
      "  display_name: \"stop sign\"\n",
      "}\n",
      "item {\n",
      "  name: \"/m/015qbp\"\n",
      "  id: 14\n",
      "  display_name: \"parking meter\"\n",
      "}\n",
      "item {\n",
      "  name: \"/m/0cvnqh\"\n",
      "  id: 15\n",
      "  display_name: \"bench\"\n",
      "}\n",
      "item {\n",
      "  name: \"/m/015p6\"\n",
      "  id: 16\n",
      "  display_name: \"bird\"\n",
      "}\n",
      "item {\n",
      "  name: \"/m/01yrx\"\n",
      "  id: 17\n",
      "  display_name: \"cat\"\n",
      "}\n",
      "item {\n",
      "  name: \"/m/0bt9lr\"\n",
      "  id: 18\n",
      "  display_name: \"dog\"\n",
      "}\n",
      "item {\n",
      "  name: \"/m/03k3r\"\n",
      "  id: 19\n",
      "  display_name: \"horse\"\n",
      "}\n",
      "item {\n",
      "  name: \"/m/07bgp\"\n",
      "  id: 20\n",
      "  display_name: \"sheep\"\n",
      "}\n",
      "item {\n",
      "  name: \"/m/01xq0k1\"\n",
      "  id: 21\n",
      "  display_name: \"cow\"\n",
      "}\n",
      "item {\n",
      "  name: \"/m/0bwd_0j\"\n",
      "  id: 22\n",
      "  display_name: \"elephant\"\n",
      "}\n",
      "item {\n",
      "  name: \"/m/01dws\"\n",
      "  id: 23\n",
      "  display_name: \"bear\"\n",
      "}\n",
      "item {\n",
      "  name: \"/m/0898b\"\n",
      "  id: 24\n",
      "  display_name: \"zebra\"\n",
      "}\n",
      "item {\n",
      "  name: \"/m/03bk1\"\n",
      "  id: 25\n",
      "  display_name: \"giraffe\"\n",
      "}\n",
      "item {\n",
      "  name: \"/m/01940j\"\n",
      "  id: 27\n",
      "  display_name: \"backpack\"\n",
      "}\n",
      "item {\n",
      "  name: \"/m/0hnnb\"\n",
      "  id: 28\n",
      "  display_name: \"umbrella\"\n",
      "}\n",
      "item {\n",
      "  name: \"/m/080hkjn\"\n",
      "  id: 31\n",
      "  display_name: \"handbag\"\n",
      "}\n",
      "item {\n",
      "  name: \"/m/01rkbr\"\n",
      "  id: 32\n",
      "  display_name: \"tie\"\n",
      "}\n",
      "item {\n",
      "  name: \"/m/01s55n\"\n",
      "  id: 33\n",
      "  display_name: \"suitcase\"\n",
      "}\n",
      "item {\n",
      "  name: \"/m/02wmf\"\n",
      "  id: 34\n",
      "  display_name: \"frisbee\"\n",
      "}\n",
      "item {\n",
      "  name: \"/m/071p9\"\n",
      "  id: 35\n",
      "  display_name: \"skis\"\n",
      "}\n",
      "item {\n",
      "  name: \"/m/06__v\"\n",
      "  id: 36\n",
      "  display_name: \"snowboard\"\n",
      "}\n",
      "item {\n",
      "  name: \"/m/018xm\"\n",
      "  id: 37\n",
      "  display_name: \"sports ball\"\n",
      "}\n",
      "item {\n",
      "  name: \"/m/02zt3\"\n",
      "  id: 38\n",
      "  display_name: \"kite\"\n",
      "}\n",
      "item {\n",
      "  name: \"/m/03g8mr\"\n",
      "  id: 39\n",
      "  display_name: \"baseball bat\"\n",
      "}\n",
      "item {\n",
      "  name: \"/m/03grzl\"\n",
      "  id: 40\n",
      "  display_name: \"baseball glove\"\n",
      "}\n",
      "item {\n",
      "  name: \"/m/06_fw\"\n",
      "  id: 41\n",
      "  display_name: \"skateboard\"\n",
      "}\n",
      "item {\n",
      "  name: \"/m/019w40\"\n",
      "  id: 42\n",
      "  display_name: \"surfboard\"\n",
      "}\n",
      "item {\n",
      "  name: \"/m/0dv9c\"\n",
      "  id: 43\n",
      "  display_name: \"tennis racket\"\n",
      "}\n",
      "item {\n",
      "  name: \"/m/04dr76w\"\n",
      "  id: 44\n",
      "  display_name: \"bottle\"\n",
      "}\n",
      "item {\n",
      "  name: \"/m/09tvcd\"\n",
      "  id: 46\n",
      "  display_name: \"wine glass\"\n",
      "}\n",
      "item {\n",
      "  name: \"/m/08gqpm\"\n",
      "  id: 47\n",
      "  display_name: \"cup\"\n",
      "}\n",
      "item {\n",
      "  name: \"/m/0dt3t\"\n",
      "  id: 48\n",
      "  display_name: \"fork\"\n",
      "}\n",
      "item {\n",
      "  name: \"/m/04ctx\"\n",
      "  id: 49\n",
      "  display_name: \"knife\"\n",
      "}\n",
      "item {\n",
      "  name: \"/m/0cmx8\"\n",
      "  id: 50\n",
      "  display_name: \"spoon\"\n",
      "}\n",
      "item {\n",
      "  name: \"/m/04kkgm\"\n",
      "  id: 51\n",
      "  display_name: \"bowl\"\n",
      "}\n",
      "item {\n",
      "  name: \"/m/09qck\"\n",
      "  id: 52\n",
      "  display_name: \"banana\"\n",
      "}\n",
      "item {\n",
      "  name: \"/m/014j1m\"\n",
      "  id: 53\n",
      "  display_name: \"apple\"\n",
      "}\n",
      "item {\n",
      "  name: \"/m/0l515\"\n",
      "  id: 54\n",
      "  display_name: \"sandwich\"\n",
      "}\n",
      "item {\n",
      "  name: \"/m/0cyhj_\"\n",
      "  id: 55\n",
      "  display_name: \"orange\"\n",
      "}\n",
      "item {\n",
      "  name: \"/m/0hkxq\"\n",
      "  id: 56\n",
      "  display_name: \"broccoli\"\n",
      "}\n",
      "item {\n",
      "  name: \"/m/0fj52s\"\n",
      "  id: 57\n",
      "  display_name: \"carrot\"\n",
      "}\n",
      "item {\n",
      "  name: \"/m/01b9xk\"\n",
      "  id: 58\n",
      "  display_name: \"hot dog\"\n",
      "}\n",
      "item {\n",
      "  name: \"/m/0663v\"\n",
      "  id: 59\n",
      "  display_name: \"pizza\"\n",
      "}\n",
      "item {\n",
      "  name: \"/m/0jy4k\"\n",
      "  id: 60\n",
      "  display_name: \"donut\"\n",
      "}\n",
      "item {\n",
      "  name: \"/m/0fszt\"\n",
      "  id: 61\n",
      "  display_name: \"cake\"\n",
      "}\n",
      "item {\n",
      "  name: \"/m/01mzpv\"\n",
      "  id: 62\n",
      "  display_name: \"chair\"\n",
      "}\n",
      "item {\n",
      "  name: \"/m/02crq1\"\n",
      "  id: 63\n",
      "  display_name: \"couch\"\n",
      "}\n",
      "item {\n",
      "  name: \"/m/03fp41\"\n",
      "  id: 64\n",
      "  display_name: \"potted plant\"\n",
      "}\n",
      "item {\n",
      "  name: \"/m/03ssj5\"\n",
      "  id: 65\n",
      "  display_name: \"bed\"\n",
      "}\n",
      "item {\n",
      "  name: \"/m/04bcr3\"\n",
      "  id: 67\n",
      "  display_name: \"dining table\"\n",
      "}\n",
      "item {\n",
      "  name: \"/m/09g1w\"\n",
      "  id: 70\n",
      "  display_name: \"toilet\"\n",
      "}\n",
      "item {\n",
      "  name: \"/m/07c52\"\n",
      "  id: 72\n",
      "  display_name: \"tv\"\n",
      "}\n",
      "item {\n",
      "  name: \"/m/01c648\"\n",
      "  id: 73\n",
      "  display_name: \"laptop\"\n",
      "}\n",
      "item {\n",
      "  name: \"/m/020lf\"\n",
      "  id: 74\n",
      "  display_name: \"mouse\"\n",
      "}\n",
      "item {\n",
      "  name: \"/m/0qjjc\"\n",
      "  id: 75\n",
      "  display_name: \"remote\"\n",
      "}\n",
      "item {\n",
      "  name: \"/m/01m2v\"\n",
      "  id: 76\n",
      "  display_name: \"keyboard\"\n",
      "}\n",
      "item {\n",
      "  name: \"/m/050k8\"\n",
      "  id: 77\n",
      "  display_name: \"cell phone\"\n",
      "}\n",
      "item {\n",
      "  name: \"/m/0fx9l\"\n",
      "  id: 78\n",
      "  display_name: \"microwave\"\n",
      "}\n",
      "item {\n",
      "  name: \"/m/029bxz\"\n",
      "  id: 79\n",
      "  display_name: \"oven\"\n",
      "}\n",
      "item {\n",
      "  name: \"/m/01k6s3\"\n",
      "  id: 80\n",
      "  display_name: \"toaster\"\n",
      "}\n",
      "item {\n",
      "  name: \"/m/0130jx\"\n",
      "  id: 81\n",
      "  display_name: \"sink\"\n",
      "}\n",
      "item {\n",
      "  name: \"/m/040b_t\"\n",
      "  id: 82\n",
      "  display_name: \"refrigerator\"\n",
      "}\n",
      "item {\n",
      "  name: \"/m/0bt_c3\"\n",
      "  id: 84\n",
      "  display_name: \"book\"\n",
      "}\n",
      "item {\n",
      "  name: \"/m/01x3z\"\n",
      "  id: 85\n",
      "  display_name: \"clock\"\n",
      "}\n",
      "item {\n",
      "  name: \"/m/02s195\"\n",
      "  id: 86\n",
      "  display_name: \"vase\"\n",
      "}\n",
      "item {\n",
      "  name: \"/m/01lsmm\"\n",
      "  id: 87\n",
      "  display_name: \"scissors\"\n",
      "}\n",
      "item {\n",
      "  name: \"/m/0kmg4\"\n",
      "  id: 88\n",
      "  display_name: \"teddy bear\"\n",
      "}\n",
      "item {\n",
      "  name: \"/m/03wvsk\"\n",
      "  id: 89\n",
      "  display_name: \"hair drier\"\n",
      "}\n",
      "item {\n",
      "  name: \"/m/012xff\"\n",
      "  id: 90\n",
      "  display_name: \"toothbrush\"\n",
      "}\n",
      "\n"
     ]
    }
   ],
   "source": [
    "print(label_map)"
   ]
  },
  {
   "cell_type": "code",
   "execution_count": 15,
   "metadata": {},
   "outputs": [
    {
     "data": {
      "text/plain": [
       "{1: {'id': 1, 'name': 'person'},\n",
       " 2: {'id': 2, 'name': 'bicycle'},\n",
       " 3: {'id': 3, 'name': 'car'},\n",
       " 4: {'id': 4, 'name': 'motorcycle'},\n",
       " 5: {'id': 5, 'name': 'airplane'},\n",
       " 6: {'id': 6, 'name': 'bus'},\n",
       " 7: {'id': 7, 'name': 'train'},\n",
       " 8: {'id': 8, 'name': 'truck'},\n",
       " 9: {'id': 9, 'name': 'boat'},\n",
       " 10: {'id': 10, 'name': 'traffic light'},\n",
       " 11: {'id': 11, 'name': 'fire hydrant'},\n",
       " 13: {'id': 13, 'name': 'stop sign'},\n",
       " 14: {'id': 14, 'name': 'parking meter'},\n",
       " 15: {'id': 15, 'name': 'bench'},\n",
       " 16: {'id': 16, 'name': 'bird'},\n",
       " 17: {'id': 17, 'name': 'cat'},\n",
       " 18: {'id': 18, 'name': 'dog'},\n",
       " 19: {'id': 19, 'name': 'horse'},\n",
       " 20: {'id': 20, 'name': 'sheep'},\n",
       " 21: {'id': 21, 'name': 'cow'},\n",
       " 22: {'id': 22, 'name': 'elephant'},\n",
       " 23: {'id': 23, 'name': 'bear'},\n",
       " 24: {'id': 24, 'name': 'zebra'},\n",
       " 25: {'id': 25, 'name': 'giraffe'},\n",
       " 27: {'id': 27, 'name': 'backpack'},\n",
       " 28: {'id': 28, 'name': 'umbrella'},\n",
       " 31: {'id': 31, 'name': 'handbag'},\n",
       " 32: {'id': 32, 'name': 'tie'},\n",
       " 33: {'id': 33, 'name': 'suitcase'},\n",
       " 34: {'id': 34, 'name': 'frisbee'},\n",
       " 35: {'id': 35, 'name': 'skis'},\n",
       " 36: {'id': 36, 'name': 'snowboard'},\n",
       " 37: {'id': 37, 'name': 'sports ball'},\n",
       " 38: {'id': 38, 'name': 'kite'},\n",
       " 39: {'id': 39, 'name': 'baseball bat'},\n",
       " 40: {'id': 40, 'name': 'baseball glove'},\n",
       " 41: {'id': 41, 'name': 'skateboard'},\n",
       " 42: {'id': 42, 'name': 'surfboard'},\n",
       " 43: {'id': 43, 'name': 'tennis racket'},\n",
       " 44: {'id': 44, 'name': 'bottle'},\n",
       " 46: {'id': 46, 'name': 'wine glass'},\n",
       " 47: {'id': 47, 'name': 'cup'},\n",
       " 48: {'id': 48, 'name': 'fork'},\n",
       " 49: {'id': 49, 'name': 'knife'},\n",
       " 50: {'id': 50, 'name': 'spoon'},\n",
       " 51: {'id': 51, 'name': 'bowl'},\n",
       " 52: {'id': 52, 'name': 'banana'},\n",
       " 53: {'id': 53, 'name': 'apple'},\n",
       " 54: {'id': 54, 'name': 'sandwich'},\n",
       " 55: {'id': 55, 'name': 'orange'},\n",
       " 56: {'id': 56, 'name': 'broccoli'},\n",
       " 57: {'id': 57, 'name': 'carrot'},\n",
       " 58: {'id': 58, 'name': 'hot dog'},\n",
       " 59: {'id': 59, 'name': 'pizza'},\n",
       " 60: {'id': 60, 'name': 'donut'},\n",
       " 61: {'id': 61, 'name': 'cake'},\n",
       " 62: {'id': 62, 'name': 'chair'},\n",
       " 63: {'id': 63, 'name': 'couch'},\n",
       " 64: {'id': 64, 'name': 'potted plant'},\n",
       " 65: {'id': 65, 'name': 'bed'},\n",
       " 67: {'id': 67, 'name': 'dining table'},\n",
       " 70: {'id': 70, 'name': 'toilet'},\n",
       " 72: {'id': 72, 'name': 'tv'},\n",
       " 73: {'id': 73, 'name': 'laptop'},\n",
       " 74: {'id': 74, 'name': 'mouse'},\n",
       " 75: {'id': 75, 'name': 'remote'},\n",
       " 76: {'id': 76, 'name': 'keyboard'},\n",
       " 77: {'id': 77, 'name': 'cell phone'},\n",
       " 78: {'id': 78, 'name': 'microwave'},\n",
       " 79: {'id': 79, 'name': 'oven'},\n",
       " 80: {'id': 80, 'name': 'toaster'},\n",
       " 81: {'id': 81, 'name': 'sink'},\n",
       " 82: {'id': 82, 'name': 'refrigerator'},\n",
       " 84: {'id': 84, 'name': 'book'},\n",
       " 85: {'id': 85, 'name': 'clock'},\n",
       " 86: {'id': 86, 'name': 'vase'},\n",
       " 87: {'id': 87, 'name': 'scissors'},\n",
       " 88: {'id': 88, 'name': 'teddy bear'},\n",
       " 89: {'id': 89, 'name': 'hair drier'},\n",
       " 90: {'id': 90, 'name': 'toothbrush'}}"
      ]
     },
     "execution_count": 15,
     "metadata": {},
     "output_type": "execute_result"
    }
   ],
   "source": [
    "category_index"
   ]
  },
  {
   "cell_type": "code",
   "execution_count": 34,
   "metadata": {
    "collapsed": true
   },
   "outputs": [],
   "source": [
    "import cv2\n",
    "\n",
    "cap = cv2.VideoCapture(0) # 0 stands for very first webcam attach\n",
    "\n",
    "filename=\"output\\VideoCap1.avi\" #[place were i stored my output file]\n",
    "\n",
    "codec = cv2.VideoWriter_fourcc(*'MJPG')  # AVI\n",
    "#codec = cv2.VideoWriter_fourcc('m','p','4','v')#fourcc stands for four character code\n",
    "\n",
    "framerate=2\n",
    "resolution=(640,480)\n",
    "    \n",
    "VideoFileOutput=cv2.VideoWriter(filename,codec,framerate, resolution)\n"
   ]
  },
  {
   "cell_type": "code",
   "execution_count": 35,
   "metadata": {},
   "outputs": [
    {
     "data": {
      "text/plain": [
       "<VideoWriter 0000015CCF87DE50>"
      ]
     },
     "execution_count": 35,
     "metadata": {},
     "output_type": "execute_result"
    }
   ],
   "source": [
    "#Confirm Video\n",
    "VideoFileOutput"
   ]
  },
  {
   "cell_type": "code",
   "execution_count": 36,
   "metadata": {},
   "outputs": [
    {
     "name": "stdout",
     "output_type": "stream",
     "text": [
      "Key q Pressed - Exit\n"
     ]
    }
   ],
   "source": [
    "with detection_graph.as_default():\n",
    "    \n",
    "    with tf.Session(graph=detection_graph) as sess:\n",
    "        \n",
    "        ret=True\n",
    "            \n",
    "        while (ret):\n",
    "        \n",
    "            ret, image_np=cap.read() \n",
    "\n",
    "            # Define input and output Tensors for detection_graph\n",
    "            image_tensor = detection_graph.get_tensor_by_name('image_tensor:0')\n",
    "            # Each box represents a part of the image where a particular object was detected.\n",
    "            detection_boxes = detection_graph.get_tensor_by_name('detection_boxes:0')\n",
    "            # Each score represent how level of confidence for each of the objects.\n",
    "            # Score is shown on the result image, together with the class label.\n",
    "            detection_scores  = detection_graph.get_tensor_by_name('detection_scores:0')\n",
    "            detection_classes = detection_graph.get_tensor_by_name('detection_classes:0')\n",
    "            num_detections    = detection_graph.get_tensor_by_name('num_detections:0')\n",
    "\n",
    "              # Expand dimensions since the model expects images to have shape: [1, None, None, 3]\n",
    "            image_np_expanded = np.expand_dims(image_np, axis=0)\n",
    "              # Actual detection.\n",
    "            (boxes, scores, classes, num) = sess.run(\n",
    "                  [detection_boxes, detection_scores, detection_classes, num_detections],\n",
    "                  feed_dict={image_tensor: image_np_expanded})\n",
    "              # Visualization of the results of a detection.\n",
    "            vis_util.visualize_boxes_and_labels_on_image_array(\n",
    "                  image_np,\n",
    "                  np.squeeze(boxes),\n",
    "                  np.squeeze(classes).astype(np.int32),\n",
    "                  np.squeeze(scores),\n",
    "                  category_index,\n",
    "                  use_normalized_coordinates=True,\n",
    "                  line_thickness=8)\n",
    "\n",
    "            VideoFileOutput.write(image_np)\n",
    "            cv2.imshow('MRobalinho - Tensorflow - live_detection',image_np)\n",
    "            xkey = cv2.waitKey(1) & 0XFF  # wait 1 seconds\n",
    "            #print(xkey) verify Key q to exit\n",
    "            if xkey == ord('q'):  # Key q to Exit (key q)\n",
    "                print('Key q Pressed - Exit')\n",
    "                VideoFileOutput.release()\n",
    "                break\n",
    "\n",
    "cap.release()\n",
    "cv2.destroyAllWindows()"
   ]
  },
  {
   "cell_type": "code",
   "execution_count": 37,
   "metadata": {},
   "outputs": [
    {
     "data": {
      "text/plain": [
       "<tensorflow.python.client.session.Session at 0x15ccf89d7b8>"
      ]
     },
     "execution_count": 37,
     "metadata": {},
     "output_type": "execute_result"
    }
   ],
   "source": [
    "tf.Session(graph=detection_graph)"
   ]
  },
  {
   "cell_type": "code",
   "execution_count": null,
   "metadata": {
    "collapsed": true
   },
   "outputs": [],
   "source": []
  }
 ],
 "metadata": {
  "kernelspec": {
   "display_name": "Python 3",
   "language": "python",
   "name": "python3"
  },
  "language_info": {
   "codemirror_mode": {
    "name": "ipython",
    "version": 3
   },
   "file_extension": ".py",
   "mimetype": "text/x-python",
   "name": "python",
   "nbconvert_exporter": "python",
   "pygments_lexer": "ipython3",
   "version": "3.6.7"
  }
 },
 "nbformat": 4,
 "nbformat_minor": 2
}
